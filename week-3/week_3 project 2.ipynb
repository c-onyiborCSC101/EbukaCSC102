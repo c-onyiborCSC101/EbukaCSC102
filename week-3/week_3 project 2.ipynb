{
 "cells": [
  {
   "cell_type": "code",
   "execution_count": 1,
   "id": "437df68e",
   "metadata": {},
   "outputs": [
    {
     "name": "stdout",
     "output_type": "stream",
     "text": [
      "Give A a number 5\n",
      "Give B a number 6\n",
      "Give C a number 7\n",
      "Give D a number 8\n",
      "the roots of the equation are -0.7893333333333333, -0.25157037037037033 and -0.15909629629629624.\n"
     ]
    }
   ],
   "source": [
    "A = float(input(\"Give A a number \"))\n",
    "B = float(input(\"Give B a number \"))\n",
    "C = float(input(\"Give C a number \"))\n",
    "D = float(input(\"Give D a number \"))\n",
    "\n",
    "a1 = B / A\n",
    "a2 = C / A\n",
    "a3 = D / A\n",
    "i = ( -1 ) ** 1/2\n",
    "\n",
    "Q = ((3*a2) - (a1**2))/9\n",
    "R = ((9*a1*a2) - (27*a3) - ((2*a1**3)))/54\n",
    "S = ((R + (((Q)**3) + ((R)**2))**1/2))**1/3\n",
    "T = ((R - (((Q)**3) + ((R)**2))**1/2))**1/3\n",
    "\n",
    "x1 = S + T - 1/3*a1\n",
    "x2 = -(1/2)*(S + T)-((1/3)*a1) + ((((1/2)*i)*((3)**1/2))*(S - T))\n",
    "x3 = -(1/2)*(S + T)-((1/3)*a1) - ((((1/2)*i)*((3)**1/2))*(S - T))\n",
    "\n",
    "print(f\"the roots of the equation are {x1}, {x2} and {x3}.\")\n"
   ]
  }
 ],
 "metadata": {
  "kernelspec": {
   "display_name": "Python 3 (ipykernel)",
   "language": "python",
   "name": "python3"
  },
  "language_info": {
   "codemirror_mode": {
    "name": "ipython",
    "version": 3
   },
   "file_extension": ".py",
   "mimetype": "text/x-python",
   "name": "python",
   "nbconvert_exporter": "python",
   "pygments_lexer": "ipython3",
   "version": "3.10.9"
  }
 },
 "nbformat": 4,
 "nbformat_minor": 5
}
