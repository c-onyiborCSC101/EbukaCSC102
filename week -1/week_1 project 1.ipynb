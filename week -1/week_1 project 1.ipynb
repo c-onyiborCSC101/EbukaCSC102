{
 "cells": [
  {
   "cell_type": "code",
   "execution_count": 1,
   "id": "37634307",
   "metadata": {},
   "outputs": [
    {
     "name": "stdout",
     "output_type": "stream",
     "text": [
      "Give P a number 9\n",
      "Give R a number 7\n",
      "Give T a number 7\n",
      "67.41\n"
     ]
    }
   ],
   "source": [
    "#create the variables\n",
    "P = float(input(\"Give P a number \"))\n",
    "R = float(input(\"Give R a number \"))\n",
    "T = float(input(\"Give T a number \"))\n",
    "\n",
    "#Break down the variables into formulas\n",
    "step1 = 1 + (R / 100)\n",
    "step2 = step1 * T\n",
    "step3 = step2 * P\n",
    "A = step3\n",
    "\n",
    "print(A)\n"
   ]
  },
  {
   "cell_type": "code",
   "execution_count": 4,
   "id": "86e7f85c",
   "metadata": {
    "scrolled": true
   },
   "outputs": [
    {
     "name": "stdout",
     "output_type": "stream",
     "text": [
      "Give P a number 3\n",
      "Give R a number 4\n",
      "Give n a number 5\n",
      "Give t a number 2\n",
      "113.37408000000002\n"
     ]
    }
   ],
   "source": [
    "#create the variables\n",
    "P = float(input(\"Give P a number \"))\n",
    "R = float(input(\"Give R a number \"))\n",
    "n = float(input(\"Give n a number \"))\n",
    "t = float(input(\"Give t a number \"))\n",
    "\n",
    "#Break down the variables into formulas\n",
    "step1 = 1 + (R / n)\n",
    "step2 = (step1) ** n * t\n",
    "step3 = step2 * P\n",
    "A = step3\n",
    "\n",
    "print(A)"
   ]
  },
  {
   "cell_type": "code",
   "execution_count": 2,
   "id": "cf77ca80",
   "metadata": {},
   "outputs": [
    {
     "name": "stdout",
     "output_type": "stream",
     "text": [
      "Give P a number2 \n",
      "Give R a number4\n",
      "Give n a number1\n",
      "Give T a number3\n",
      "Give t a number5\n",
      "Give M a number7\n",
      "Give PMT a number8\n",
      "48.0\n"
     ]
    }
   ],
   "source": [
    "#creat the varibles\n",
    "P = float(input(\"Give P a number\"))\n",
    "R = float(input(\"Give R a number\"))\n",
    "n = float(input(\"Give n a number\"))\n",
    "T = float(input(\"Give T a number\"))\n",
    "t = float(input(\"Give t a number\"))\n",
    "M = float(input(\"Give M a number\"))\n",
    "PMT = float(input(\"Give PMT a number\"))\n",
    "\n",
    "#Break down the variables into formulas\n",
    "step1 = 1 + (R / n)\n",
    "step2 = step1 ** n * t\n",
    "step3 = step2 - 1\n",
    "step4 = step3 / (R / n)\n",
    "step5 = step4 * PMT\n",
    "A = step5\n",
    "\n",
    "print(A)"
   ]
  },
  {
   "cell_type": "code",
   "execution_count": null,
   "id": "dbc2f3c4",
   "metadata": {},
   "outputs": [],
   "source": []
  }
 ],
 "metadata": {
  "kernelspec": {
   "display_name": "Python 3 (ipykernel)",
   "language": "python",
   "name": "python3"
  },
  "language_info": {
   "codemirror_mode": {
    "name": "ipython",
    "version": 3
   },
   "file_extension": ".py",
   "mimetype": "text/x-python",
   "name": "python",
   "nbconvert_exporter": "python",
   "pygments_lexer": "ipython3",
   "version": "3.10.9"
  }
 },
 "nbformat": 4,
 "nbformat_minor": 5
}
